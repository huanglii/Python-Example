{
 "nbformat": 4,
 "nbformat_minor": 2,
 "metadata": {
  "language_info": {
   "name": "python",
   "codemirror_mode": {
    "name": "ipython",
    "version": 3
   },
   "version": "3.7.6-final"
  },
  "orig_nbformat": 2,
  "file_extension": ".py",
  "mimetype": "text/x-python",
  "name": "python",
  "npconvert_exporter": "python",
  "pygments_lexer": "ipython3",
  "version": 3,
  "kernelspec": {
   "name": "python3",
   "display_name": "Python 3"
  }
 },
 "cells": [
  {
   "cell_type": "code",
   "execution_count": null,
   "metadata": {},
   "outputs": [],
   "source": [
    "import requests\n",
    "import pandas as pd"
   ]
  },
  {
   "cell_type": "code",
   "execution_count": null,
   "metadata": {},
   "outputs": [],
   "source": [
    "amap_key = '216f07d654852385a55a1b69a537760a'\n",
    "\n",
    "# poi_classes = '150200'\n",
    "poi_classes = '150000|200000'\n",
    "citys = ['湘潭县', '岳塘区', '雨湖区', '韶山市', '湘乡市']\n",
    "# citys = ['湘潭县']"
   ]
  },
  {
   "cell_type": "code",
   "execution_count": null,
   "metadata": {},
   "outputs": [],
   "source": [
    "# https://restapi.amap.com/v3/place/text?keywords=北京大学&city=beijing&output=xml&offset=20&page=1&key=<用户的key>&extensions=all\n",
    "def get_pois_page(city, page):\n",
    "    print('城市：' + city + '，页数：' + str(page))\n",
    "    req_url = 'https://restapi.amap.com/v3/place/text?key={0}&types={1}&city={2}&output=json&offset=20&page={3}'.format(amap_key, poi_classes, city, page)\n",
    "    return requests.get(req_url).json()"
   ]
  },
  {
   "cell_type": "code",
   "execution_count": null,
   "metadata": {},
   "outputs": [],
   "source": [
    "def get_pois(city):\n",
    "    i = 1\n",
    "    poi_list = []\n",
    "    while True:\n",
    "        req_data = get_pois_page(city, i)\n",
    "        if req_data['count'] == '0':\n",
    "            print('城市：' + city + ' POI 获取结束。')\n",
    "            break\n",
    "        poi_list.extend(req_data['pois'])\n",
    "        i = i + 1\n",
    "    return poi_list\n",
    "\n"
   ]
  },
  {
   "cell_type": "code",
   "execution_count": null,
   "metadata": {},
   "outputs": [],
   "source": [
    "result = []\n",
    "for city in citys:\n",
    "    result.extend(get_pois(city))\n",
    "    "
   ]
  },
  {
   "cell_type": "code",
   "execution_count": null,
   "metadata": {},
   "outputs": [],
   "source": [
    "## 导出"
   ]
  },
  {
   "cell_type": "code",
   "execution_count": null,
   "metadata": {},
   "outputs": [],
   "source": [
    "df = pd.DataFrame(result, columns=['id', 'name', 'type', 'typecode', 'address', 'location', 'tel', 'pname', 'cityname', 'adname'])\n",
    "# 计算经纬度\n",
    "df['longitude']=df[['location']].apply(lambda x:x['location'].split(',')[0], axis=1)\n",
    "df['latitude']=df[['location']].apply(lambda x:x['location'].split(',')[1], axis=1)\n",
    "\n",
    "# 小程序数据库导入时可以识别为geopoint\n",
    "df['geopoint']=df[['location']].apply(lambda x:{\"type\":\"Point\",\"coordinates\": x['location'].split(',')}, axis=1)\n",
    "df['_openid']='ouHzz5J7ED0HqOnRc80CMXOtfLqQ'\n",
    "\n",
    "# df.to_csv('./data/test.csv', index=False, encoding='utf_8_sig')\n",
    "df.to_json('./data/test.json', orient='records', lines=True, force_ascii=False) "
   ]
  },
  {
   "cell_type": "code",
   "execution_count": null,
   "metadata": {},
   "outputs": [],
   "source": []
  }
 ]
}