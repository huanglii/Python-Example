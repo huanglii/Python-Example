{
 "cells": [
  {
   "cell_type": "code",
   "execution_count": 2,
   "metadata": {},
   "outputs": [],
   "source": [
    "import json\n",
    "import datetime\n",
    "from pyecharts.charts import Map\n",
    "from pyecharts import options as opts"
   ]
  },
  {
   "cell_type": "markdown",
   "metadata": {},
   "source": [
    "## 读原始数据文件"
   ]
  },
  {
   "cell_type": "code",
   "execution_count": 4,
   "metadata": {},
   "outputs": [],
   "source": [
    "today = datetime.date.today().strftime('%Y%m%d')   #20200331\n",
    "datafile = './data/'+ today + '.json'\n",
    "with open(datafile, 'r', encoding='UTF-8') as file:\n",
    "    json_array = json.loads(file.read())"
   ]
  },
  {
   "cell_type": "markdown",
   "metadata": {},
   "source": [
    "## 分析全国实时确诊数据：'confirmedCount'字段"
   ]
  },
  {
   "cell_type": "code",
   "execution_count": 8,
   "metadata": {},
   "outputs": [],
   "source": [
    "china_data = []\n",
    "for province in json_array:\n",
    "    china_data.append((province['provinceShortName'], province['confirmedCount']))\n",
    "china_data = sorted(china_data, key=lambda x: x[1], reverse=True)                 #reverse=True,表示降序，反之升序"
   ]
  },
  {
   "cell_type": "markdown",
   "metadata": {},
   "source": [
    "## 全国疫情地图\n",
    "### 自定义的每一段的范围，以及每一段的特别的样式。"
   ]
  },
  {
   "cell_type": "code",
   "execution_count": 10,
   "metadata": {},
   "outputs": [
    {
     "data": {
      "text/plain": [
       "'/home/huangli/workspace/learning-python/jupyterlab/深度学习7日入门-CV疫情特辑-飞桨深度学习学院/day01/data/全国实时确诊数据.html'"
      ]
     },
     "execution_count": 10,
     "metadata": {},
     "output_type": "execute_result"
    }
   ],
   "source": [
    "pieces = [\n",
    "    {'min': 10000, 'color': '#540d0d'},\n",
    "    {'max': 9999, 'min': 1000, 'color': '#9c1414'},\n",
    "    {'max': 999, 'min': 500, 'color': '#d92727'},\n",
    "    {'max': 499, 'min': 100, 'color': '#ed3232'},\n",
    "    {'max': 99, 'min': 10, 'color': '#f27777'},\n",
    "    {'max': 9, 'min': 1, 'color': '#f7adad'},\n",
    "    {'max': 0, 'color': '#f7e4e4'},\n",
    "]\n",
    "labels = [data[0] for data in china_data]\n",
    "counts = [data[1] for data in china_data]\n",
    "\n",
    "m = Map()\n",
    "m.add(\"累计确诊\", [list(z) for z in zip(labels, counts)], 'china')\n",
    "\n",
    "#系列配置项,可配置图元样式、文字样式、标签样式、点线样式等\n",
    "m.set_series_opts(label_opts=opts.LabelOpts(font_size=12),\n",
    "                  is_show=False)\n",
    "#全局配置项,可配置标题、动画、坐标轴、图例等\n",
    "m.set_global_opts(title_opts=opts.TitleOpts(title='全国实时确诊数据',\n",
    "                                            subtitle='数据来源：丁香园'),\n",
    "                  legend_opts=opts.LegendOpts(is_show=False),\n",
    "                  visualmap_opts=opts.VisualMapOpts(pieces=pieces,\n",
    "                                                    is_piecewise=True,   #是否为分段型\n",
    "                                                    is_show=True))       #是否显示视觉映射配置\n",
    "#render（）会生成本地 HTML 文件，默认会在当前目录生成 render.html 文件，也可以传入路径参数，如 m.render(\"mycharts.html\")\n",
    "m.render(path='./data/全国实时确诊数据.html')"
   ]
  },
  {
   "cell_type": "code",
   "execution_count": null,
   "metadata": {},
   "outputs": [],
   "source": []
  }
 ],
 "metadata": {
  "file_extension": ".py",
  "kernelspec": {
   "display_name": "Python 3",
   "language": "python",
   "name": "python3"
  },
  "language_info": {
   "codemirror_mode": {
    "name": "ipython",
    "version": 3
   },
   "file_extension": ".py",
   "mimetype": "text/x-python",
   "name": "python",
   "nbconvert_exporter": "python",
   "pygments_lexer": "ipython3",
   "version": "3.7.6"
  },
  "mimetype": "text/x-python",
  "name": "python",
  "npconvert_exporter": "python",
  "pygments_lexer": "ipython3",
  "version": 3
 },
 "nbformat": 4,
 "nbformat_minor": 4
}
