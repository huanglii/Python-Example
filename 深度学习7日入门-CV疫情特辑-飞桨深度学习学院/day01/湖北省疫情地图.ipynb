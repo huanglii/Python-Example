{
 "nbformat": 4,
 "nbformat_minor": 2,
 "metadata": {
  "language_info": {
   "name": "python",
   "codemirror_mode": {
    "name": "ipython",
    "version": 3
   },
   "version": "3.7.6-final"
  },
  "orig_nbformat": 2,
  "file_extension": ".py",
  "mimetype": "text/x-python",
  "name": "python",
  "npconvert_exporter": "python",
  "pygments_lexer": "ipython3",
  "version": 3,
  "kernelspec": {
   "name": "python3",
   "display_name": "Python 3"
  }
 },
 "cells": [
  {
   "cell_type": "code",
   "execution_count": 1,
   "metadata": {},
   "outputs": [],
   "source": [
    "import json\n",
    "import datetime\n",
    "from pyecharts.charts import Map\n",
    "from pyecharts import options as opts"
   ]
  },
  {
   "cell_type": "code",
   "execution_count": 2,
   "metadata": {},
   "outputs": [],
   "source": [
    "# 读原始数据文件\n",
    "today = datetime.date.today().strftime('%Y%m%d')   #20200315\n",
    "datafile = './data/'+ today + '.json'\n",
    "with open(datafile, 'r', encoding='UTF-8') as file:\n",
    "    json_array = json.loads(file.read())"
   ]
  },
  {
   "cell_type": "code",
   "execution_count": 3,
   "metadata": {},
   "outputs": [],
   "source": [
    "# 分析湖北省实时确诊数据\n",
    "# 读入规范化的城市名称，用于规范化丁香园数据中的城市简称\n",
    "with open('./data/pycharts_city.txt', 'r', encoding='UTF-8') as f:\n",
    "    defined_cities = [line.strip() for line in f.readlines()]"
   ]
  },
  {
   "cell_type": "code",
   "execution_count": 4,
   "metadata": {},
   "outputs": [],
   "source": [
    "def format_city_name(name, defined_cities):\n",
    "    for defined_city in defined_cities:\n",
    "        if len((set(defined_city) & set(name))) == len(name):\n",
    "            name = defined_city\n",
    "            if name.endswith('市') or name.endswith('区') or name.endswith('县') or name.endswith('自治州'):\n",
    "                return name\n",
    "            return name + '市'\n",
    "    return None"
   ]
  },
  {
   "cell_type": "code",
   "execution_count": 5,
   "metadata": {},
   "outputs": [],
   "source": [
    "province_name = '湖北'\n",
    "for province in json_array:\n",
    "    if province['provinceName'] == province_name or province['provinceShortName'] == province_name:\n",
    "        json_array_province = province['cities']\n",
    "        hubei_data = [(format_city_name(city['cityName'], defined_cities), city['confirmedCount']) for city in\n",
    "                      json_array_province]\n",
    "        hubei_data = sorted(hubei_data, key=lambda x: x[1], reverse=True)"
   ]
  },
  {
   "cell_type": "code",
   "execution_count": 6,
   "metadata": {},
   "outputs": [
    {
     "output_type": "execute_result",
     "data": {
      "text/plain": "'/home/huangli/workspace/learning-python/jupyterlab/深度学习7日入门-CV疫情特辑-飞桨深度学习学院/day01/data/湖北省实时确诊数据.html'"
     },
     "metadata": {},
     "execution_count": 6
    }
   ],
   "source": [
    "labels = [data[0] for data in hubei_data]\n",
    "counts = [data[1] for data in hubei_data]\n",
    "pieces = [\n",
    "    {'min': 10000, 'color': '#540d0d'},\n",
    "    {'max': 9999, 'min': 1000, 'color': '#9c1414'},\n",
    "    {'max': 999, 'min': 500, 'color': '#d92727'},\n",
    "    {'max': 499, 'min': 100, 'color': '#ed3232'},\n",
    "    {'max': 99, 'min': 10, 'color': '#f27777'},\n",
    "    {'max': 9, 'min': 1, 'color': '#f7adad'},\n",
    "    {'max': 0, 'color': '#f7e4e4'},\n",
    "]\n",
    "\n",
    "m = Map()\n",
    "m.add(\"累计确诊\", [list(z) for z in zip(labels, counts)], '湖北')\n",
    "m.set_series_opts(label_opts=opts.LabelOpts(font_size=12),\n",
    "                  is_show=False)\n",
    "m.set_global_opts(title_opts=opts.TitleOpts(title='湖北省实时确诊数据',\n",
    "                                            subtitle='数据来源：丁香园'),\n",
    "                  legend_opts=opts.LegendOpts(is_show=False),\n",
    "                  visualmap_opts=opts.VisualMapOpts(pieces=pieces,\n",
    "                                                    is_piecewise=True,\n",
    "                                                    is_show=True))\n",
    "m.render(path='./data/湖北省实时确诊数据.html')"
   ]
  },
  {
   "cell_type": "code",
   "execution_count": null,
   "metadata": {},
   "outputs": [],
   "source": []
  }
 ]
}