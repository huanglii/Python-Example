{
 "nbformat": 4,
 "nbformat_minor": 2,
 "metadata": {
  "language_info": {
   "name": "python",
   "codemirror_mode": {
    "name": "ipython",
    "version": 3
   },
   "version": "3.7.6-final"
  },
  "orig_nbformat": 2,
  "file_extension": ".py",
  "mimetype": "text/x-python",
  "name": "python",
  "npconvert_exporter": "python",
  "pygments_lexer": "ipython3",
  "version": 3,
  "kernelspec": {
   "name": "python3",
   "display_name": "Python 3"
  }
 },
 "cells": [
  {
   "cell_type": "markdown",
   "execution_count": null,
   "metadata": {},
   "outputs": [],
   "source": [
    "## 引入包"
   ]
  },
  {
   "cell_type": "code",
   "execution_count": 50,
   "metadata": {},
   "outputs": [],
   "source": [
    "import requests\n",
    "import json"
   ]
  },
  {
   "cell_type": "markdown",
   "execution_count": null,
   "metadata": {},
   "outputs": [],
   "source": [
    "## 声明变量"
   ]
  },
  {
   "cell_type": "code",
   "execution_count": 34,
   "metadata": {},
   "outputs": [],
   "source": [
    "searchUrl = 'https://apis.map.qq.com/ws/place/v1/search'\n",
    "key = 'E7SBZ-3PB6Q-45J5V-GHKQC-FHX6F-Y6B3Q'\n",
    "\n",
    "city = '湘潭市'\n",
    "keyword = '服务'\n",
    "pageSize = 20\n",
    "pageIndex = 1\n",
    "\n",
    "result = []"
   ]
  },
  {
   "cell_type": "code",
   "execution_count": null,
   "metadata": {},
   "outputs": [],
   "source": [
    "## 获取数据"
   ]
  },
  {
   "cell_type": "code",
   "execution_count": 37,
   "metadata": {},
   "outputs": [],
   "source": [
    "def reqrequestData(url):\n",
    "    return requests.get(url).json()['data']"
   ]
  },
  {
   "cell_type": "code",
   "execution_count": 42,
   "metadata": {},
   "outputs": [
    {
     "name": "stdout",
     "output_type": "stream",
     "text": "获取第1条数据\n获取第2条数据\n获取第3条数据\n获取第4条数据\n获取第5条数据\n获取第6条数据\n获取第7条数据\n获取第8条数据\n获取第9条数据\n获取第10条数据\n"
    }
   ],
   "source": [
    "result = []\n",
    "for i in range(1, 11):\n",
    "    print('获取第' + str(i) + '条数据')\n",
    "    url = '{0}?boundary=region({1},0)&page_size={2}&page_index={3}&keyword={4}&orderby=_distance&key={5}'.format(searchUrl, city, str(pageSize), str(i), keyword, key)\n",
    "    data = reqrequestData(url)\n",
    "    result.extend(data)"
   ]
  },
  {
   "cell_type": "markdown",
   "metadata": {},
   "source": [
    "## 导出数据"
   ]
  },
  {
   "cell_type": "code",
   "execution_count": 64,
   "metadata": {},
   "outputs": [],
   "source": [
    "# print(json.dumps(result, ensure_ascii=False))\n",
    "\n",
    "with open('./data/湘潭服务.json', 'w') as json_file:\n",
    "    json_file.write(json.dumps(result, ensure_ascii=False))"
   ]
  }
 ]
}