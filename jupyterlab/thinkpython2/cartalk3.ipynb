{
 "nbformat": 4,
 "nbformat_minor": 2,
 "metadata": {
  "language_info": {
   "name": "python",
   "codemirror_mode": {
    "name": "ipython",
    "version": 3
   },
   "version": "3.7.6-final"
  },
  "orig_nbformat": 2,
  "file_extension": ".py",
  "mimetype": "text/x-python",
  "name": "python",
  "npconvert_exporter": "python",
  "pygments_lexer": "ipython3",
  "version": 3,
  "kernelspec": {
   "name": "python3",
   "display_name": "Python 3"
  }
 },
 "cells": [
  {
   "cell_type": "code",
   "execution_count": null,
   "metadata": {},
   "outputs": [],
   "source": [
    "def str_fill(i, n):\n",
    "    \"\"\"Returns i as a string with at least n digits.\n",
    "\n",
    "    i: int\n",
    "    n: int length\n",
    "\n",
    "    returns: string\n",
    "    \"\"\"\n",
    "    return str(i).zfill(n)"
   ]
  },
  {
   "cell_type": "code",
   "execution_count": null,
   "metadata": {},
   "outputs": [],
   "source": [
    "def are_reversed(i, j):\n",
    "    \"\"\"Checks if i and j are the reverse of each other.\n",
    "\n",
    "    i: int\n",
    "    j: int\n",
    "\n",
    "    returns:bool\n",
    "    \"\"\"\n",
    "    return str_fill(i, 2) == str_fill(j, 2)[::-1]"
   ]
  },
  {
   "cell_type": "code",
   "execution_count": null,
   "metadata": {},
   "outputs": [],
   "source": [
    "def num_instances(diff, flag=False):\n",
    "    \"\"\"Counts the number of palindromic ages.\n",
    "\n",
    "    Returns the number of times the mother and daughter have\n",
    "    palindromic ages in their lives, given the difference in age.\n",
    "\n",
    "    diff: int difference in ages\n",
    "    flag: bool, if True, prints the details\n",
    "    \"\"\"\n",
    "    daughter = 0\n",
    "    count = 0\n",
    "    while True:\n",
    "        mother = daughter + diff\n",
    "\n",
    "        # assuming that mother and daughter don't have the same birthday,\n",
    "        # they have two chances per year to have palindromic ages.\n",
    "        if are_reversed(daughter, mother) or are_reversed(daughter, mother+1):\n",
    "            count = count + 1\n",
    "            if flag:\n",
    "                print(daughter, mother)\n",
    "        if mother > 120:\n",
    "            break\n",
    "        daughter = daughter + 1\n",
    "    return count\n",
    "    "
   ]
  },
  {
   "cell_type": "code",
   "execution_count": null,
   "metadata": {},
   "outputs": [],
   "source": [
    "def check_diffs():\n",
    "    \"\"\"Finds age differences that satisfy the problem.\n",
    "\n",
    "    Enumerates the possible differences in age between mother\n",
    "    and daughter, and for each difference, counts the number of times\n",
    "    over their lives they will have ages that are the reverse of\n",
    "    each other.\n",
    "    \"\"\"\n",
    "    diff = 10\n",
    "    while diff < 70:\n",
    "        n = num_instances(diff)\n",
    "        if n > 0:\n",
    "            print(diff, n)\n",
    "        diff = diff + 1"
   ]
  },
  {
   "cell_type": "code",
   "execution_count": null,
   "metadata": {},
   "outputs": [],
   "source": [
    "print('diff  #instances')\n",
    "check_diffs()\n",
    "\n",
    "print()\n",
    "print('daughter  mother')\n",
    "num_instances(18, True)"
   ]
  },
  {
   "cell_type": "code",
   "execution_count": null,
   "metadata": {},
   "outputs": [],
   "source": []
  }
 ]
}