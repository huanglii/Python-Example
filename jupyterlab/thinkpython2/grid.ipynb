{
 "nbformat": 4,
 "nbformat_minor": 2,
 "metadata": {
  "language_info": {
   "name": "python",
   "codemirror_mode": {
    "name": "ipython",
    "version": 3
   },
   "version": "3.7.6-final"
  },
  "orig_nbformat": 2,
  "file_extension": ".py",
  "mimetype": "text/x-python",
  "name": "python",
  "npconvert_exporter": "python",
  "pygments_lexer": "ipython3",
  "version": 3,
  "kernelspec": {
   "name": "python3",
   "display_name": "Python 3"
  }
 },
 "cells": [
  {
   "cell_type": "code",
   "execution_count": 1,
   "metadata": {},
   "outputs": [],
   "source": [
    "## 符号打印"
   ]
  },
  {
   "cell_type": "code",
   "execution_count": 2,
   "metadata": {},
   "outputs": [],
   "source": [
    "def print_plus():\n",
    "    print('+', end=' ')\n",
    "\n",
    "def print_dash():\n",
    "    print('-', end=' ')\n",
    "\n",
    "def print_bar():\n",
    "    print('|', end=' ')\n",
    "\n",
    "def print_space():\n",
    "    print(' ', end=' ')"
   ]
  },
  {
   "cell_type": "markdown",
   "metadata": {},
   "source": [
    "## 行打印"
   ],
   "execution_count": null,
   "outputs": []
  },
  {
   "cell_type": "code",
   "execution_count": 3,
   "metadata": {},
   "outputs": [],
   "source": [
    "def print_row_plus(column = 1, space = 1):\n",
    "    print_plus()\n",
    "    for i in range(0, column):\n",
    "        for j in range(0, space):\n",
    "            print_dash()\n",
    "        print_plus()\n",
    "    print()\n",
    "\n",
    "def print_row_bar(column = 1, space = 1):\n",
    "    print_bar()\n",
    "    for i in range(0, column):\n",
    "        for j in range(0, space):\n",
    "            print_space()\n",
    "        print_bar()\n",
    "    print()"
   ]
  },
  {
   "cell_type": "markdown",
   "metadata": {},
   "source": [
    "## 网格"
   ],
   "execution_count": null,
   "outputs": []
  },
  {
   "cell_type": "code",
   "execution_count": 4,
   "metadata": {},
   "outputs": [],
   "source": [
    "def grid(row = 1, column = 1, row_space = 4, column_space = 4):\n",
    "    for i in range(0, row):\n",
    "        # + - - +\n",
    "        print_row_plus(column, column_space)\n",
    "        for j in range(0, row_space):\n",
    "            # |    |\n",
    "            print_row_bar(column, column_space)\n",
    "    # + - - +\n",
    "    print_row_plus(column, column_space)"
   ]
  },
  {
   "cell_type": "code",
   "execution_count": 5,
   "metadata": {},
   "outputs": [
    {
     "output_type": "stream",
     "name": "stdout",
     "text": "+ - + - + \n|   |   | \n+ - + - + \n|   |   | \n+ - + - + \n"
    }
   ],
   "source": [
    "grid(2, 2, 1, 1)"
   ]
  },
  {
   "cell_type": "code",
   "execution_count": null,
   "metadata": {},
   "outputs": [],
   "source": []
  }
 ]
}